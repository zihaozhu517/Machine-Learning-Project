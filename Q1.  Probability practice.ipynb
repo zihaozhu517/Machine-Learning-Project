{
 "cells": [
  {
   "cell_type": "markdown",
   "id": "991d76ae",
   "metadata": {},
   "source": [
    "# Probability practice"
   ]
  },
  {
   "cell_type": "markdown",
   "id": "94bb2793",
   "metadata": {},
   "source": [
    "**Part A.** Visitors to your website are asked to answer a single survey question before they get access to the content on the page. Among all of the users, there are two categories: Random Clicker (RC), and Truthful Clicker (TC). There are two possible answers to the survey: yes and no. Random clickers would click either one with equal probability. You are also giving the information that the expected fraction of random clickers is 0.3. After a trial period, you get the following survey results: 65% said Yes and 35% said No. What fraction of people who are truthful clickers answered yes? Hint: use the rule of total probability."
   ]
  },
  {
   "cell_type": "markdown",
   "id": "b674482e",
   "metadata": {},
   "source": [
    "<div class=\"alert alert-block alert-success\">Probability of being a Random Clicker i.e. P( rc ) = 0.3<br>\n",
    "Since there are only two types of clickers, Probability of being a Truthful Clicker i.e. P( tc ) = 1 - 0.3 = 0.7<br><br>\n",
    "\n",
    "Probability of a Random Clicker saying yes or no is equal.<br>\n",
    "This implies that P( y | rc ) = P( n | rc ) = 0.5<br>\n",
    "\n",
    "We need to calculate P( y | tc ). From the rule of total probability,<br>\n",
    "P( y ) = P( y | rc ) $*$ P( rc ) + P( y | tc ) $*$ P( tc )<br>\n",
    "=> 0.65 = 0.5 $*$ 0.3 + P( y | tc ) $*$ 0.7<br>\n",
    "=>P( y | tc ) = 0.5/0.7 = 5/7 = 0.7143<br><br>\n",
    "\n",
    "**Thus, around 71.43% of Truthful Clickers answered yes.**"
   ]
  },
  {
   "cell_type": "markdown",
   "id": "54cd5f05",
   "metadata": {},
   "source": [
    "**Part B.** Imagine a medical test for a disease with the following two attributes:\n",
    "\n",
    "The sensitivity is about 0.993. That is, if someone has the disease, there is a probability of 0.993 that they will test positive.\n",
    "The specificity is about 0.9999. This means that if someone doesn't have the disease, there is probability of 0.9999 that they will test negative.\n",
    "In the general population, incidence of the disease is reasonably rare: about 0.0025% of all people have it (or 0.000025 as a decimal probability).\n",
    "Suppose someone tests positive. What is the probability that they have the disease?"
   ]
  },
  {
   "cell_type": "markdown",
   "id": "2b8de980",
   "metadata": {},
   "source": [
    "<div class=\"alert alert-block alert-success\">We will use the following abbreviations :<br>\n",
    "D - Has disease, ND - Does not have disease<br>\n",
    "TP - Tested Positive, TN - Tested Negative<br><br>\n",
    "\n",
    "The information provided is as follows:<br>\n",
    "Probability of testing positive when someone has the disease i.e. P( TP / D ) = 0.993<br>\n",
    "Probability of testing negative when someone does not have the disease i.e. P( TN / ND ) = 0.9999<br>\n",
    "If someone does not have the disease, they can either test positive or negative. If the probability of testing negative is 0.9999, then the probability of testing positive i.e. P ( TP / ND ) = 1 - 0.9999 = 0.0001\n",
    "Probability of someone having the disease i.e. P( D ) = 0.000025<br>\n",
    "This means that the probability of not having the disease i.e. P ( ND ) = 1 - 0.000025 = 0.999975\n",
    "\n",
    "We can use Bayes Theorem to tackle this problem. According to the Bayes Theorem,<br>\n",
    "P ( D / TP ) = ( P ( D ) $*$ P ( TP / D ) ) / P( TP )<br>\n",
    "\n",
    "Let's think about the term in the denominator, P ( TP ). People can test positive in two situations - when they have the disease or when they do not have the disease.\n",
    "\n",
    "P ( TP ) = P ( TP / D ) $*$ P ( D ) + P ( TP / ND ) $*$ P ( ND ) = 0.993 $*$ 0.000025 + 0.0001 $*$ 0.999975 = 0.0001248225\n",
    "\n",
    "Therefore,\n",
    "P ( D / TP ) = ( 0.000025 $*$ 0.993 ) / ( 0.0001248225 ) = 0.198882413 <br><br>\n",
    "**This means that if someone tests positive, then the probability they actually have the disease is 19.89%.**"
   ]
  }
 ],
 "metadata": {
  "kernelspec": {
   "display_name": "Python 3 (ipykernel)",
   "language": "python",
   "name": "python3"
  },
  "language_info": {
   "codemirror_mode": {
    "name": "ipython",
    "version": 3
   },
   "file_extension": ".py",
   "mimetype": "text/x-python",
   "name": "python",
   "nbconvert_exporter": "python",
   "pygments_lexer": "ipython3",
   "version": "3.10.9"
  }
 },
 "nbformat": 4,
 "nbformat_minor": 5
}
